{
 "cells": [
  {
   "cell_type": "code",
   "execution_count": 1,
   "id": "0b4bb576",
   "metadata": {},
   "outputs": [
    {
     "data": {
      "text/plain": [
       "7"
      ]
     },
     "execution_count": 1,
     "metadata": {},
     "output_type": "execute_result"
    }
   ],
   "source": [
    "3+4"
   ]
  },
  {
   "cell_type": "code",
   "execution_count": null,
   "id": "28d65457",
   "metadata": {},
   "outputs": [],
   "source": []
  },
  {
   "cell_type": "markdown",
   "id": "dac6d545",
   "metadata": {},
   "source": [
    "# Intro to the course"
   ]
  },
  {
   "cell_type": "code",
   "execution_count": 2,
   "id": "7de496e8",
   "metadata": {},
   "outputs": [],
   "source": [
    "name = 'sarah'"
   ]
  },
  {
   "cell_type": "code",
   "execution_count": 3,
   "id": "3f33f770",
   "metadata": {},
   "outputs": [
    {
     "data": {
      "text/plain": [
       "'sarah'"
      ]
     },
     "execution_count": 3,
     "metadata": {},
     "output_type": "execute_result"
    }
   ],
   "source": [
    "name"
   ]
  },
  {
   "cell_type": "code",
   "execution_count": 4,
   "id": "26d6b9ac",
   "metadata": {},
   "outputs": [
    {
     "data": {
      "text/plain": [
       "'sarah'"
      ]
     },
     "execution_count": 4,
     "metadata": {},
     "output_type": "execute_result"
    }
   ],
   "source": [
    "course = 'csc310'\n",
    "course\n",
    "name"
   ]
  },
  {
   "cell_type": "code",
   "execution_count": 5,
   "id": "e13c606e",
   "metadata": {},
   "outputs": [],
   "source": [
    "name = 'Sarah'"
   ]
  },
  {
   "cell_type": "code",
   "execution_count": 6,
   "id": "5f0187af",
   "metadata": {},
   "outputs": [
    {
     "data": {
      "text/plain": [
       "'Sarah'"
      ]
     },
     "execution_count": 6,
     "metadata": {},
     "output_type": "execute_result"
    }
   ],
   "source": [
    "name"
   ]
  },
  {
   "cell_type": "code",
   "execution_count": 7,
   "id": "45eaf1b8",
   "metadata": {},
   "outputs": [
    {
     "data": {
      "text/plain": [
       "'csc310'"
      ]
     },
     "execution_count": 7,
     "metadata": {},
     "output_type": "execute_result"
    }
   ],
   "source": [
    "course"
   ]
  },
  {
   "cell_type": "code",
   "execution_count": 8,
   "id": "0f5f60c2",
   "metadata": {},
   "outputs": [
    {
     "name": "stdout",
     "output_type": "stream",
     "text": [
      "Sarah\n"
     ]
    }
   ],
   "source": [
    "print(name)"
   ]
  },
  {
   "cell_type": "markdown",
   "id": "3ce268eb",
   "metadata": {},
   "source": [
    "How do you use the `print` function to output: `Sarah_csc310`?"
   ]
  },
  {
   "cell_type": "code",
   "execution_count": 9,
   "id": "44262549",
   "metadata": {},
   "outputs": [
    {
     "name": "stdout",
     "output_type": "stream",
     "text": [
      "Sarah_csc310\n"
     ]
    }
   ],
   "source": [
    "print(name,course,sep='_')"
   ]
  },
  {
   "cell_type": "code",
   "execution_count": 10,
   "id": "23327046",
   "metadata": {},
   "outputs": [
    {
     "name": "stdout",
     "output_type": "stream",
     "text": [
      "Help on built-in function print in module builtins:\n",
      "\n",
      "print(...)\n",
      "    print(value, ..., sep=' ', end='\\n', file=sys.stdout, flush=False)\n",
      "    \n",
      "    Prints the values to a stream, or to sys.stdout by default.\n",
      "    Optional keyword arguments:\n",
      "    file:  a file-like object (stream); defaults to the current sys.stdout.\n",
      "    sep:   string inserted between values, default a space.\n",
      "    end:   string appended after the last value, default a newline.\n",
      "    flush: whether to forcibly flush the stream.\n",
      "\n"
     ]
    }
   ],
   "source": [
    "help(print)"
   ]
  },
  {
   "cell_type": "code",
   "execution_count": 11,
   "id": "08dbc199",
   "metadata": {},
   "outputs": [
    {
     "name": "stdout",
     "output_type": "stream",
     "text": [
      "Sarah_csc310_hello_bye\n"
     ]
    }
   ],
   "source": [
    "print(name,course,'hello','bye',sep='_')"
   ]
  },
  {
   "cell_type": "code",
   "execution_count": 12,
   "id": "1e9da3e4",
   "metadata": {},
   "outputs": [
    {
     "name": "stdout",
     "output_type": "stream",
     "text": [
      "Sarah\n",
      "csc310\n",
      "hello\n",
      "bye\n"
     ]
    }
   ],
   "source": [
    "print(name,course,'hello','bye',sep='\\n')"
   ]
  },
  {
   "cell_type": "markdown",
   "id": "6fd83ea9",
   "metadata": {},
   "source": [
    "![venn diagram of CS, Stats, & domain expertise with DS at the center](https://raw.githubusercontent.com/rhodyprog4ds/rhodyds/main/img/ds_venn.png)"
   ]
  },
  {
   "cell_type": "markdown",
   "id": "6fe6ce08",
   "metadata": {},
   "source": [
    "![venn diagram of CS, Stats, & domain expertise with DS at the center, w/310 location marked](https://raw.githubusercontent.com/rhodyprog4ds/rhodyds/main/img/310_venn.png)"
   ]
  },
  {
   "cell_type": "markdown",
   "id": "de36fc8f",
   "metadata": {},
   "source": [
    "![DS pipeline: collect, clean, explore, model, deploy](https://raw.githubusercontent.com/rhodyprog4ds/rhodyds/main/img/process.png)"
   ]
  },
  {
   "cell_type": "markdown",
   "id": "c429b04c",
   "metadata": {},
   "source": [
    "![DS process: 3 major phases (prepare,build,finish) with many sub-phases. Prepare:set goals, explore, wrangle, assess; Build: Plan, analyze, engineer, optimize, execute; Finish: Deliver, revise, wrap up](https://drek4537l1klr.cloudfront.net/godsey/Figures/01fig02_alt.jpg)"
   ]
  },
  {
   "cell_type": "markdown",
   "id": "a4deffb7",
   "metadata": {},
   "source": [
    "![DS pipeline: collect, clean, explore, model, deploy](https://raw.githubusercontent.com/rhodyprog4ds/rhodyds/main/img/process_course.png)"
   ]
  },
  {
   "cell_type": "markdown",
   "id": "a11af212",
   "metadata": {},
   "source": [
    "![DS pipeline: collect, clean, explore, model, deploy](https://raw.githubusercontent.com/rhodyprog4ds/rhodyds/main/img/process_course_time.png)"
   ]
  },
  {
   "cell_type": "code",
   "execution_count": null,
   "id": "014ab0dc",
   "metadata": {},
   "outputs": [],
   "source": []
  }
 ],
 "metadata": {
  "jupytext": {
   "text_representation": {
    "extension": ".md",
    "format_name": "myst",
    "format_version": 0.13,
    "jupytext_version": "1.14.1"
   }
  },
  "kernelspec": {
   "display_name": "Python 3",
   "language": "python",
   "name": "python3"
  },
  "language_info": {
   "codemirror_mode": {
    "name": "ipython",
    "version": 3
   },
   "file_extension": ".py",
   "mimetype": "text/x-python",
   "name": "python",
   "nbconvert_exporter": "python",
   "pygments_lexer": "ipython3",
   "version": "3.7.15"
  },
  "source_map": [
   14,
   18,
   20,
   24,
   28,
   32,
   38,
   42,
   46,
   50,
   52,
   56,
   60,
   64,
   68,
   70,
   74,
   78,
   82,
   86,
   90,
   94
  ]
 },
 "nbformat": 4,
 "nbformat_minor": 5
}